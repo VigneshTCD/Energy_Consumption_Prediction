{
 "cells": [
  {
   "cell_type": "code",
   "execution_count": 54,
   "metadata": {},
   "outputs": [],
   "source": [
    "from sklearn.ensemble import GradientBoostingRegressor, RandomForestRegressor\n",
    "from sklearn.linear_model import LinearRegression\n",
    "from sklearn.metrics import r2_score, mean_squared_error\n",
    "import lightgbm as lgb\n",
    "\n",
    "import pandas as pd\n",
    "import numpy as np\n",
    "import matplotlib.pyplot as plt\n",
    "import seaborn as sns\n",
    "import category_encoders as ce\n",
    "\n",
    "\n",
    "pd.set_option(\"max_rows\", None)\n",
    "pd.set_option(\"max_columns\", None)\n",
    "import warnings\n",
    "warnings.filterwarnings('ignore')"
   ]
  },
  {
   "cell_type": "code",
   "execution_count": null,
   "metadata": {},
   "outputs": [],
   "source": []
  },
  {
   "cell_type": "code",
   "execution_count": 55,
   "metadata": {},
   "outputs": [],
   "source": [
    "energy_usage_selected_cities = pd.read_csv('Energy_Usage_2010_preprocessed.csv')"
   ]
  },
  {
   "cell_type": "code",
   "execution_count": 56,
   "metadata": {},
   "outputs": [],
   "source": [
    "from sklearn.pipeline import Pipeline\n",
    "from sklearn.preprocessing import OneHotEncoder, StandardScaler\n",
    "import category_encoders as ce   # version 1.2.8\n",
    "from sklearn.base import BaseEstimator\n",
    "from sklearn.base import TransformerMixin\n",
    "\n",
    "class StandardScalarMultiple(BaseEstimator, TransformerMixin):\n",
    "    def __init__(self, columns):\n",
    "        super().__init__()\n",
    "        self.columns = columns\n",
    "        self.normalizer = None\n",
    "\n",
    "    def fit(self, X, y=None):\n",
    "        self.normalizer = StandardScaler()\n",
    "        self.normalizer.fit(X[self.columns])\n",
    "\n",
    "        return self\n",
    "\n",
    "    def transform(self, X, y=None):\n",
    "        \n",
    "        X_copy = X.copy()\n",
    "\n",
    "        normalized_vals = self.normalizer.transform(X[self.columns])\n",
    "        \n",
    "        for i in range(0, len(self.columns)):\n",
    "            col = [row[i] for row in normalized_vals]\n",
    "            X_copy[self.columns[i]] = col\n",
    "        \n",
    "\n",
    "        return X_copy"
   ]
  },
  {
   "cell_type": "markdown",
   "metadata": {},
   "source": [
    "### Modelling\n",
    "\n",
    "Features used for the model\n",
    "- Building Type\n",
    "- Building Sub Type\n",
    "- Total population\n",
    "- Average Stories\n",
    "- Average Building Age\n",
    "- Average Housesize\n",
    "- Electricity Accounts\n",
    "\n",
    "Pipeline\n",
    "- One Hot Encoding\n",
    "- Standardization\n",
    "\n",
    "Model used\n",
    "- Gradient Boosting\n",
    "\n"
   ]
  },
  {
   "cell_type": "code",
   "execution_count": 57,
   "metadata": {},
   "outputs": [],
   "source": [
    "from sklearn.model_selection import train_test_split\n",
    "\n",
    "\n",
    "\n",
    "one_hot_encoder = ce.OneHotEncoder(cols=[ 'COMMUNITY AREA NAME', 'BUILDING TYPE', 'BUILDING_SUBTYPE'])\n",
    "standard_scaler = StandardScalarMultiple(columns=['TOTAL POPULATION', 'AVERAGE STORIES', \n",
    "                                                  'AVERAGE BUILDING AGE', 'AVERAGE HOUSESIZE', 'ELECTRICITY ACCOUNTS'\n",
    "                                                  ])\n",
    "\n",
    "energy_usage_select_cities_selected_cols = \\\n",
    "    energy_usage_selected_cities[['BUILDING TYPE', 'BUILDING_SUBTYPE', 'COMMUNITY AREA NAME',\n",
    "                                    'TOTAL POPULATION', 'AVERAGE STORIES', \n",
    "                                                  'AVERAGE BUILDING AGE', 'AVERAGE HOUSESIZE', 'RENTER-OCCUPIED HOUSING PERCENTAGE',\n",
    "                                    'ELECTRICITY ACCOUNTS', 'KWH MEAN 2010'\n",
    "                                                  ]]\n",
    "# energy_usage_select_cities_nonull_selected_cols=energy_usage_select_cities_nonull_selected_cols[energy_usage_select_cities_nonull_selected_cols['BUILDING TYPE']!='Industrial']\n",
    "\n",
    "X = energy_usage_select_cities_selected_cols[['COMMUNITY AREA NAME', 'BUILDING TYPE', 'BUILDING_SUBTYPE',\n",
    "                                    'TOTAL POPULATION', 'AVERAGE STORIES', \n",
    "                                                  'AVERAGE BUILDING AGE', 'AVERAGE HOUSESIZE', 'RENTER-OCCUPIED HOUSING PERCENTAGE', 'ELECTRICITY ACCOUNTS']]\n",
    "y = energy_usage_select_cities_selected_cols['KWH MEAN 2010']\n",
    "\n",
    "X_train, X_test, y_train, y_test = train_test_split(X,y,test_size=0.3, random_state=611, stratify=X['COMMUNITY AREA NAME'])\n"
   ]
  },
  {
   "cell_type": "markdown",
   "metadata": {},
   "source": [
    "### Apply Pipeline and perform Gradient Boosting\n",
    "\n",
    "- Applied 4 fold cross validation\n",
    "\n",
    "### Evaluation using percentile rank\n",
    "\n",
    "Compute percentile rank of true and predicted values\n",
    "- Compute rmse score on 4 quantiles and check whether model is predicting very low and very high energy consumption\n",
    "- rmse percentile rank is consistent across all the folds which implies the model is not overfitting"
   ]
  },
  {
   "cell_type": "code",
   "execution_count": 58,
   "metadata": {},
   "outputs": [
    {
     "name": "stdout",
     "output_type": "stream",
     "text": [
      "0.3024555653656401  --- Percentile rmse rank of Fold split  1\n",
      "0.3032854185560264  --- Percentile rmse rank of Fold split  2\n",
      "0.3049009562896139  --- Percentile rmse rank of Fold split  3\n",
      "0.29505755179191645  --- Percentile rmse rank of Fold split  4\n"
     ]
    }
   ],
   "source": [
    "from sklearn.model_selection import train_test_split\n",
    "\n",
    "def rmse_percentile_rank(y_test, pred):\n",
    "    \n",
    "    evaluation_df = pd.DataFrame({\n",
    "        'true': y_test,\n",
    "        'pred': pred,\n",
    "        'true_rank': pd.Series(y_test).rank(pct=True),\n",
    "        'pred_rank': pd.Series(pred).rank(pct=True)\n",
    "    })\n",
    "    evaluation_df['quantile'] = pd.qcut(evaluation_df.true, 4, labels=False)\n",
    "    evaluation_df['diff_percentile'] = np.square(evaluation_df['true_rank']-evaluation_df['pred_rank'])\n",
    "    \n",
    "    return np.sqrt(mean_squared_error(evaluation_df['true_rank'], evaluation_df['pred_rank']))\n",
    "\n",
    "\n",
    "pipe = Pipeline([\n",
    "                 ('one_hot_encoder', one_hot_encoder),\n",
    "                 ('standard_scaler', standard_scaler)\n",
    "                ])\n",
    "\n",
    "pipe_fit = pipe.fit(X_train)\n",
    "\n",
    "X_train_transformed = pipe_fit.transform(X_train)\n",
    "\n",
    "X_train_transformed = np.array(X_train_transformed.to_numpy())\n",
    "\n",
    "from sklearn.model_selection import StratifiedKFold\n",
    "skf = StratifiedKFold(n_splits=4)\n",
    "skf.get_n_splits(X, y)\n",
    "\n",
    "y_train = np.array(y_train)\n",
    "\n",
    "count = 0\n",
    "for train_index, test_index in skf.split(X_train_transformed, X_train['BUILDING TYPE']):\n",
    "#     print(\"TRAIN:\", train_index, \"TEST:\", test_index)\n",
    "    X_cross_train, X_cross_test = X_train_transformed[train_index], X_train_transformed[test_index]\n",
    "    y_cross_train, y_cross_test = y_train[train_index], y_train[test_index]\n",
    "    \n",
    "    lm = GradientBoostingRegressor().fit(X_cross_train, y_cross_train)\n",
    "    pred = lm.predict(X_cross_test)\n",
    "    \n",
    "    count+=1\n",
    "    print(rmse_percentile_rank(y_cross_test, pred), ' --- Percentile rmse rank of Fold split ', count)\n",
    "    "
   ]
  },
  {
   "cell_type": "code",
   "execution_count": 59,
   "metadata": {},
   "outputs": [],
   "source": [
    "mdl = GradientBoostingRegressor().fit(X_train_transformed, y_train)"
   ]
  },
  {
   "cell_type": "code",
   "execution_count": 60,
   "metadata": {},
   "outputs": [],
   "source": [
    "X_test_transformed = pipe_fit.transform(X_test)\n",
    "pred = mdl.predict(X_test_transformed)"
   ]
  },
  {
   "cell_type": "markdown",
   "metadata": {},
   "source": [
    "### Evaluation using percentile rank\n",
    "\n",
    "Compute percentile rank of true and predicted values\n",
    "- Compute rmse score on 4 quantiles and check whether model is predicting very low and very high energy consumption\n",
    "- rmse of overall percentile rank of predicted and true energy consumption is low, implying model predicts energy consumption accurately.\n",
    "- Rmse of predicted and true percentile rank is low, which implies that model can predict energy consumption percentiles accurately"
   ]
  },
  {
   "cell_type": "code",
   "execution_count": 61,
   "metadata": {},
   "outputs": [
    {
     "name": "stdout",
     "output_type": "stream",
     "text": [
      "0.2895792908553612\n"
     ]
    }
   ],
   "source": [
    "evaluation_df = pd.DataFrame({\n",
    "    'true': y_test.values,\n",
    "    'pred': pred,\n",
    "    'true_rank': y_test.rank(pct=True).values,\n",
    "    'pred_rank': pd.Series(pred).rank(pct=True).values\n",
    "})\n",
    "evaluation_df['quantile'] = pd.qcut(evaluation_df.true, 4, labels=False)\n",
    "evaluation_df['diff_percentile'] = np.square(evaluation_df['true_rank']-evaluation_df['pred_rank'])\n",
    "\n",
    "print(np.sqrt(mean_squared_error(evaluation_df['true_rank'], evaluation_df['pred_rank'])))"
   ]
  },
  {
   "cell_type": "markdown",
   "metadata": {},
   "source": [
    "### RMSE based on quantiles\n",
    "- Rmse of predicted and true percentile rank is low, which implies that model can predict energy consumption percentiles accurately"
   ]
  },
  {
   "cell_type": "code",
   "execution_count": 62,
   "metadata": {},
   "outputs": [
    {
     "data": {
      "text/html": [
       "<div>\n",
       "<style scoped>\n",
       "    .dataframe tbody tr th:only-of-type {\n",
       "        vertical-align: middle;\n",
       "    }\n",
       "\n",
       "    .dataframe tbody tr th {\n",
       "        vertical-align: top;\n",
       "    }\n",
       "\n",
       "    .dataframe thead tr th {\n",
       "        text-align: left;\n",
       "    }\n",
       "\n",
       "    .dataframe thead tr:last-of-type th {\n",
       "        text-align: right;\n",
       "    }\n",
       "</style>\n",
       "<table border=\"1\" class=\"dataframe\">\n",
       "  <thead>\n",
       "    <tr>\n",
       "      <th></th>\n",
       "      <th>diff_percentile</th>\n",
       "    </tr>\n",
       "    <tr>\n",
       "      <th></th>\n",
       "      <th>mean</th>\n",
       "    </tr>\n",
       "    <tr>\n",
       "      <th>quantile</th>\n",
       "      <th></th>\n",
       "    </tr>\n",
       "  </thead>\n",
       "  <tbody>\n",
       "    <tr>\n",
       "      <th>0</th>\n",
       "      <td>0.381271</td>\n",
       "    </tr>\n",
       "    <tr>\n",
       "      <th>1</th>\n",
       "      <td>0.248154</td>\n",
       "    </tr>\n",
       "    <tr>\n",
       "      <th>2</th>\n",
       "      <td>0.276186</td>\n",
       "    </tr>\n",
       "    <tr>\n",
       "      <th>3</th>\n",
       "      <td>0.228401</td>\n",
       "    </tr>\n",
       "  </tbody>\n",
       "</table>\n",
       "</div>"
      ],
      "text/plain": [
       "         diff_percentile\n",
       "                    mean\n",
       "quantile                \n",
       "0               0.381271\n",
       "1               0.248154\n",
       "2               0.276186\n",
       "3               0.228401"
      ]
     },
     "execution_count": 62,
     "metadata": {},
     "output_type": "execute_result"
    }
   ],
   "source": [
    "np.sqrt(evaluation_df.groupby('quantile').agg({'diff_percentile':['mean']}))"
   ]
  },
  {
   "cell_type": "code",
   "execution_count": null,
   "metadata": {},
   "outputs": [],
   "source": []
  },
  {
   "cell_type": "code",
   "execution_count": null,
   "metadata": {},
   "outputs": [],
   "source": []
  },
  {
   "cell_type": "markdown",
   "metadata": {},
   "source": [
    "### Evaluation using percentile rank for West Town Area\n",
    "\n",
    "Compute percentile rank of true and predicted values\n",
    "- Compute rmse score on 4 quantiles and check whether model is predicting very low and very high energy consumption\n",
    "- rmse of overall percentile rank of predicted and true energy consumption is low, implying model predicts energy consumption accurately.\n",
    "- Rmse of predicted and true percentile rank is low, which implies that model can predict energy consumption percentiles accurately"
   ]
  },
  {
   "cell_type": "code",
   "execution_count": 63,
   "metadata": {},
   "outputs": [],
   "source": [
    "X_test['predicted_energy_usage'] = pred\n",
    "X_test['actual_energy_usage'] = y_test"
   ]
  },
  {
   "cell_type": "code",
   "execution_count": 64,
   "metadata": {},
   "outputs": [],
   "source": [
    "energy_usage_west_town = X_test[X_test['COMMUNITY AREA NAME']=='West Town']"
   ]
  },
  {
   "cell_type": "code",
   "execution_count": 65,
   "metadata": {},
   "outputs": [],
   "source": [
    "energy_usage_west_town['predicted_energy_usage_rank'] = energy_usage_west_town['predicted_energy_usage'].rank(pct=True)\n",
    "energy_usage_west_town['actual_energy_usage_rank'] = energy_usage_west_town['actual_energy_usage'].rank(pct=True)\n",
    "energy_usage_west_town['quantile'] = pd.qcut(energy_usage_west_town.predicted_energy_usage, 4, labels=False)\n",
    "energy_usage_west_town['diff_percentile'] = np.square(energy_usage_west_town['actual_energy_usage_rank']-energy_usage_west_town['predicted_energy_usage_rank'])\n"
   ]
  },
  {
   "cell_type": "code",
   "execution_count": 66,
   "metadata": {},
   "outputs": [
    {
     "name": "stdout",
     "output_type": "stream",
     "text": [
      "0.2966704148248639\n"
     ]
    }
   ],
   "source": [
    "print(np.sqrt(mean_squared_error(energy_usage_west_town['actual_energy_usage_rank'], energy_usage_west_town['predicted_energy_usage_rank'])))"
   ]
  },
  {
   "cell_type": "code",
   "execution_count": 67,
   "metadata": {},
   "outputs": [
    {
     "data": {
      "text/html": [
       "<div>\n",
       "<style scoped>\n",
       "    .dataframe tbody tr th:only-of-type {\n",
       "        vertical-align: middle;\n",
       "    }\n",
       "\n",
       "    .dataframe tbody tr th {\n",
       "        vertical-align: top;\n",
       "    }\n",
       "\n",
       "    .dataframe thead tr th {\n",
       "        text-align: left;\n",
       "    }\n",
       "\n",
       "    .dataframe thead tr:last-of-type th {\n",
       "        text-align: right;\n",
       "    }\n",
       "</style>\n",
       "<table border=\"1\" class=\"dataframe\">\n",
       "  <thead>\n",
       "    <tr>\n",
       "      <th></th>\n",
       "      <th>diff_percentile</th>\n",
       "    </tr>\n",
       "    <tr>\n",
       "      <th></th>\n",
       "      <th>mean</th>\n",
       "    </tr>\n",
       "    <tr>\n",
       "      <th>quantile</th>\n",
       "      <th></th>\n",
       "    </tr>\n",
       "  </thead>\n",
       "  <tbody>\n",
       "    <tr>\n",
       "      <th>0</th>\n",
       "      <td>0.381271</td>\n",
       "    </tr>\n",
       "    <tr>\n",
       "      <th>1</th>\n",
       "      <td>0.248154</td>\n",
       "    </tr>\n",
       "    <tr>\n",
       "      <th>2</th>\n",
       "      <td>0.276186</td>\n",
       "    </tr>\n",
       "    <tr>\n",
       "      <th>3</th>\n",
       "      <td>0.228401</td>\n",
       "    </tr>\n",
       "  </tbody>\n",
       "</table>\n",
       "</div>"
      ],
      "text/plain": [
       "         diff_percentile\n",
       "                    mean\n",
       "quantile                \n",
       "0               0.381271\n",
       "1               0.248154\n",
       "2               0.276186\n",
       "3               0.228401"
      ]
     },
     "execution_count": 67,
     "metadata": {},
     "output_type": "execute_result"
    }
   ],
   "source": [
    "np.sqrt(evaluation_df.groupby('quantile').agg({'diff_percentile':['mean']}))"
   ]
  },
  {
   "cell_type": "code",
   "execution_count": null,
   "metadata": {},
   "outputs": [],
   "source": []
  }
 ],
 "metadata": {
  "kernelspec": {
   "display_name": "Python 3",
   "language": "python",
   "name": "python3"
  },
  "language_info": {
   "codemirror_mode": {
    "name": "ipython",
    "version": 3
   },
   "file_extension": ".py",
   "mimetype": "text/x-python",
   "name": "python",
   "nbconvert_exporter": "python",
   "pygments_lexer": "ipython3",
   "version": "3.6.5"
  }
 },
 "nbformat": 4,
 "nbformat_minor": 2
}
